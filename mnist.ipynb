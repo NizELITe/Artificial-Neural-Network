{
  "nbformat": 4,
  "nbformat_minor": 0,
  "metadata": {
    "colab": {
      "provenance": []
    },
    "kernelspec": {
      "name": "python3",
      "display_name": "Python 3"
    },
    "language_info": {
      "name": "python"
    }
  },
  "cells": [
    {
      "cell_type": "code",
      "execution_count": 1,
      "metadata": {
        "id": "dVwxVS2IH5ri"
      },
      "outputs": [],
      "source": [
        "import tensorflow as tf\n",
        "from tensorflow import keras\n",
        "from tensorflow.keras.utils import to_categorical\n",
        "import numpy as np\n",
        "import logging"
      ]
    },
    {
      "cell_type": "code",
      "source": [
        "tf.get_logger().setLevel(logging.ERROR)\n",
        "tf.random.set_seed(7)\n"
      ],
      "metadata": {
        "id": "O6kOOeewICSf"
      },
      "execution_count": 2,
      "outputs": []
    },
    {
      "cell_type": "code",
      "source": [
        "mnist=keras.datasets.mnist\n",
        "\n",
        "(train_images,train_labels),(test_images,test_labels) = mnist.load_data()\n",
        "\n",
        "mean = np.mean(train_images)\n",
        "stddev = np.std(train_images)\n",
        "train_images = (train_images -  mean)/stddev\n",
        "test_images = (test_images - mean)/stddev"
      ],
      "metadata": {
        "colab": {
          "base_uri": "https://localhost:8080/"
        },
        "id": "rBEqHiJgIXOw",
        "outputId": "70663180-9213-4bfb-a81f-3b1fd5a04d91"
      },
      "execution_count": 3,
      "outputs": [
        {
          "output_type": "stream",
          "name": "stdout",
          "text": [
            "Downloading data from https://storage.googleapis.com/tensorflow/tf-keras-datasets/mnist.npz\n",
            "11490434/11490434 [==============================] - 0s 0us/step\n"
          ]
        }
      ]
    },
    {
      "cell_type": "code",
      "source": [
        "#one hot encode labels\n",
        "train_labels = to_categorical(train_labels,num_classes=10)\n",
        "test_labels = to_categorical(test_labels,num_classes=10)\n"
      ],
      "metadata": {
        "id": "I0ltzuBAI3e5"
      },
      "execution_count": 4,
      "outputs": []
    },
    {
      "cell_type": "code",
      "source": [
        "Epochs = 20\n",
        "# batch_size=1 mean after single training example it will update weight\n",
        "Batch_size =1\n",
        "\n",
        "initializer = keras.initializers.RandomUniform(minval=-0.1,maxval=0.1)\n",
        "\n",
        "model = keras.Sequential([\n",
        "    keras.layers.Flatten(input_shape=(28,28)),\n",
        "    keras.layers.Dense(25,activation='tanh',kernel_initializer=initializer,bias_initializer='zeros'),\n",
        "    keras.layers.Dense(10,activation='sigmoid',kernel_initializer=initializer,bias_initializer='zeros')])\n",
        "\n",
        "\n",
        "opt = keras.optimizers.SGD(learning_rate=0.1)\n",
        "model.compile(loss='mean_squared_error',optimizer=opt,metrics=['accuracy'])\n",
        "\n",
        "# Train the model for 20 epochs.\n",
        "# Shuffle (randomize) order of data during training.\n",
        "# Update weights after each example (batch_size=1).\n",
        "history = model.fit(train_images, train_labels,\n",
        " validation_data=(test_images, test_labels),\n",
        " epochs=Epochs, batch_size=Batch_size,\n",
        " verbose=2, shuffle=True)\n",
        "\n",
        "#verbose is used to show output\n",
        "\n"
      ],
      "metadata": {
        "colab": {
          "base_uri": "https://localhost:8080/"
        },
        "id": "bzqhiuE0IKzB",
        "outputId": "888ed42b-fea6-437f-f87b-5226b1a06ad2"
      },
      "execution_count": 5,
      "outputs": [
        {
          "metadata": {
            "tags": null
          },
          "name": "stderr",
          "output_type": "stream",
          "text": [
            "/usr/local/lib/python3.10/dist-packages/keras/src/initializers/initializers.py:120: UserWarning: The initializer RandomUniform is unseeded and being called multiple times, which will return identical values each time (even if the initializer is unseeded). Please update your code to provide a seed to the initializer, or avoid using the same initializer instance more than once.\n",
            "  warnings.warn(\n"
          ]
        },
        {
          "output_type": "stream",
          "name": "stdout",
          "text": [
            "Epoch 1/20\n",
            "60000/60000 - 103s - loss: 0.0201 - accuracy: 0.8815 - val_loss: 0.0131 - val_accuracy: 0.9211 - 103s/epoch - 2ms/step\n",
            "Epoch 2/20\n",
            "60000/60000 - 89s - loss: 0.0120 - accuracy: 0.9277 - val_loss: 0.0110 - val_accuracy: 0.9322 - 89s/epoch - 1ms/step\n",
            "Epoch 3/20\n",
            "60000/60000 - 90s - loss: 0.0109 - accuracy: 0.9347 - val_loss: 0.0105 - val_accuracy: 0.9351 - 90s/epoch - 2ms/step\n",
            "Epoch 4/20\n",
            "60000/60000 - 90s - loss: 0.0101 - accuracy: 0.9400 - val_loss: 0.0102 - val_accuracy: 0.9364 - 90s/epoch - 1ms/step\n",
            "Epoch 5/20\n",
            "60000/60000 - 89s - loss: 0.0097 - accuracy: 0.9419 - val_loss: 0.0100 - val_accuracy: 0.9399 - 89s/epoch - 1ms/step\n",
            "Epoch 6/20\n",
            "60000/60000 - 88s - loss: 0.0093 - accuracy: 0.9445 - val_loss: 0.0097 - val_accuracy: 0.9391 - 88s/epoch - 1ms/step\n",
            "Epoch 7/20\n",
            "60000/60000 - 89s - loss: 0.0089 - accuracy: 0.9467 - val_loss: 0.0100 - val_accuracy: 0.9383 - 89s/epoch - 1ms/step\n",
            "Epoch 8/20\n",
            "60000/60000 - 97s - loss: 0.0087 - accuracy: 0.9482 - val_loss: 0.0089 - val_accuracy: 0.9460 - 97s/epoch - 2ms/step\n",
            "Epoch 9/20\n",
            "60000/60000 - 86s - loss: 0.0085 - accuracy: 0.9492 - val_loss: 0.0093 - val_accuracy: 0.9427 - 86s/epoch - 1ms/step\n",
            "Epoch 10/20\n",
            "60000/60000 - 96s - loss: 0.0083 - accuracy: 0.9506 - val_loss: 0.0097 - val_accuracy: 0.9398 - 96s/epoch - 2ms/step\n",
            "Epoch 11/20\n",
            "60000/60000 - 89s - loss: 0.0081 - accuracy: 0.9520 - val_loss: 0.0092 - val_accuracy: 0.9407 - 89s/epoch - 1ms/step\n",
            "Epoch 12/20\n",
            "60000/60000 - 88s - loss: 0.0081 - accuracy: 0.9524 - val_loss: 0.0098 - val_accuracy: 0.9397 - 88s/epoch - 1ms/step\n",
            "Epoch 13/20\n",
            "60000/60000 - 97s - loss: 0.0078 - accuracy: 0.9534 - val_loss: 0.0093 - val_accuracy: 0.9445 - 97s/epoch - 2ms/step\n",
            "Epoch 14/20\n",
            "60000/60000 - 90s - loss: 0.0078 - accuracy: 0.9535 - val_loss: 0.0093 - val_accuracy: 0.9436 - 90s/epoch - 2ms/step\n",
            "Epoch 15/20\n",
            "60000/60000 - 126s - loss: 0.0076 - accuracy: 0.9552 - val_loss: 0.0094 - val_accuracy: 0.9420 - 126s/epoch - 2ms/step\n",
            "Epoch 16/20\n",
            "60000/60000 - 109s - loss: 0.0075 - accuracy: 0.9556 - val_loss: 0.0089 - val_accuracy: 0.9449 - 109s/epoch - 2ms/step\n",
            "Epoch 17/20\n",
            "60000/60000 - 113s - loss: 0.0075 - accuracy: 0.9559 - val_loss: 0.0090 - val_accuracy: 0.9444 - 113s/epoch - 2ms/step\n",
            "Epoch 18/20\n",
            "60000/60000 - 97s - loss: 0.0073 - accuracy: 0.9566 - val_loss: 0.0088 - val_accuracy: 0.9451 - 97s/epoch - 2ms/step\n",
            "Epoch 19/20\n",
            "60000/60000 - 90s - loss: 0.0073 - accuracy: 0.9572 - val_loss: 0.0088 - val_accuracy: 0.9464 - 90s/epoch - 2ms/step\n",
            "Epoch 20/20\n",
            "60000/60000 - 89s - loss: 0.0071 - accuracy: 0.9578 - val_loss: 0.0092 - val_accuracy: 0.9410 - 89s/epoch - 1ms/step\n"
          ]
        }
      ]
    },
    {
      "cell_type": "code",
      "source": [],
      "metadata": {
        "id": "0n1GHVUxKwig"
      },
      "execution_count": null,
      "outputs": []
    }
  ]
}